{
 "cells": [
  {
   "cell_type": "code",
   "execution_count": 1,
   "id": "e8528c81",
   "metadata": {
    "_cell_guid": "b1076dfc-b9ad-4769-8c92-a6c4dae69d19",
    "_uuid": "8f2839f25d086af736a60e9eeb907d3b93b6e0e5",
    "execution": {
     "iopub.execute_input": "2022-03-07T09:01:14.202229Z",
     "iopub.status.busy": "2022-03-07T09:01:14.200351Z",
     "iopub.status.idle": "2022-03-07T09:01:14.216551Z",
     "shell.execute_reply": "2022-03-07T09:01:14.215525Z",
     "shell.execute_reply.started": "2022-03-07T08:36:45.460393Z"
    },
    "papermill": {
     "duration": 0.03578,
     "end_time": "2022-03-07T09:01:14.216779",
     "exception": false,
     "start_time": "2022-03-07T09:01:14.180999",
     "status": "completed"
    },
    "tags": []
   },
   "outputs": [],
   "source": [
    "# This Python 3 environment comes with many helpful analytics libraries installed\n",
    "# It is defined by the kaggle/python Docker image: https://github.com/kaggle/docker-python\n",
    "# For example, here's several helpful packages to load\n",
    "\n",
    "import numpy as np # linear algebra\n",
    "import pandas as pd # data processing, CSV file I/O (e.g. pd.read_csv)\n",
    "\n",
    "# Input data files are available in the read-only \"../input/\" directory\n",
    "# For example, running this (by clicking run or pressing Shift+Enter) will list all files under the input directory\n",
    "\n",
    "import os\n",
    "for dirname, _, filenames in os.walk('/kaggle/input'):\n",
    "    for filename in filenames:\n",
    "        print(os.path.join(dirname, filename))\n",
    "\n",
    "# You can write up to 20GB to the current directory (/kaggle/working/) that gets preserved as output when you create a version using \"Save & Run All\" \n",
    "# You can also write temporary files to /kaggle/temp/, but they won't be saved outside of the current session"
   ]
  },
  {
   "cell_type": "code",
   "execution_count": 2,
   "id": "730f3f55",
   "metadata": {
    "execution": {
     "iopub.execute_input": "2022-03-07T09:01:14.247583Z",
     "iopub.status.busy": "2022-03-07T09:01:14.246696Z",
     "iopub.status.idle": "2022-03-07T09:01:15.814784Z",
     "shell.execute_reply": "2022-03-07T09:01:15.814118Z",
     "shell.execute_reply.started": "2022-03-07T08:57:27.818900Z"
    },
    "papermill": {
     "duration": 1.585977,
     "end_time": "2022-03-07T09:01:15.814981",
     "exception": false,
     "start_time": "2022-03-07T09:01:14.229004",
     "status": "completed"
    },
    "tags": []
   },
   "outputs": [],
   "source": [
    "import pandas as pd\n",
    "from sklearn.feature_selection import mutual_info_classif\n",
    "from sklearn.model_selection import train_test_split"
   ]
  },
  {
   "cell_type": "code",
   "execution_count": 3,
   "id": "4c4a7b49",
   "metadata": {
    "execution": {
     "iopub.execute_input": "2022-03-07T09:01:15.843476Z",
     "iopub.status.busy": "2022-03-07T09:01:15.842754Z",
     "iopub.status.idle": "2022-03-07T09:01:16.145900Z",
     "shell.execute_reply": "2022-03-07T09:01:16.146483Z",
     "shell.execute_reply.started": "2022-03-07T08:36:45.602166Z"
    },
    "papermill": {
     "duration": 0.319081,
     "end_time": "2022-03-07T09:01:16.146704",
     "exception": false,
     "start_time": "2022-03-07T09:01:15.827623",
     "status": "completed"
    },
    "tags": []
   },
   "outputs": [
    {
     "data": {
      "text/html": [
       "<div>\n",
       "<style scoped>\n",
       "    .dataframe tbody tr th:only-of-type {\n",
       "        vertical-align: middle;\n",
       "    }\n",
       "\n",
       "    .dataframe tbody tr th {\n",
       "        vertical-align: top;\n",
       "    }\n",
       "\n",
       "    .dataframe thead th {\n",
       "        text-align: right;\n",
       "    }\n",
       "</style>\n",
       "<table border=\"1\" class=\"dataframe\">\n",
       "  <thead>\n",
       "    <tr style=\"text-align: right;\">\n",
       "      <th></th>\n",
       "      <th>Wine</th>\n",
       "      <th>Alcohol</th>\n",
       "      <th>Malic.acid</th>\n",
       "      <th>Ash</th>\n",
       "      <th>Acl</th>\n",
       "      <th>Mg</th>\n",
       "      <th>Phenols</th>\n",
       "      <th>Flavanoids</th>\n",
       "      <th>Nonflavanoid.phenols</th>\n",
       "      <th>Proanth</th>\n",
       "      <th>Color.int</th>\n",
       "      <th>Hue</th>\n",
       "      <th>OD</th>\n",
       "      <th>Proline</th>\n",
       "    </tr>\n",
       "  </thead>\n",
       "  <tbody>\n",
       "    <tr>\n",
       "      <th>0</th>\n",
       "      <td>1</td>\n",
       "      <td>14.23</td>\n",
       "      <td>1.71</td>\n",
       "      <td>2.43</td>\n",
       "      <td>15.6</td>\n",
       "      <td>127</td>\n",
       "      <td>2.80</td>\n",
       "      <td>3.06</td>\n",
       "      <td>0.28</td>\n",
       "      <td>2.29</td>\n",
       "      <td>5.64</td>\n",
       "      <td>1.04</td>\n",
       "      <td>3.92</td>\n",
       "      <td>1065</td>\n",
       "    </tr>\n",
       "    <tr>\n",
       "      <th>1</th>\n",
       "      <td>1</td>\n",
       "      <td>13.20</td>\n",
       "      <td>1.78</td>\n",
       "      <td>2.14</td>\n",
       "      <td>11.2</td>\n",
       "      <td>100</td>\n",
       "      <td>2.65</td>\n",
       "      <td>2.76</td>\n",
       "      <td>0.26</td>\n",
       "      <td>1.28</td>\n",
       "      <td>4.38</td>\n",
       "      <td>1.05</td>\n",
       "      <td>3.40</td>\n",
       "      <td>1050</td>\n",
       "    </tr>\n",
       "    <tr>\n",
       "      <th>2</th>\n",
       "      <td>1</td>\n",
       "      <td>13.16</td>\n",
       "      <td>2.36</td>\n",
       "      <td>2.67</td>\n",
       "      <td>18.6</td>\n",
       "      <td>101</td>\n",
       "      <td>2.80</td>\n",
       "      <td>3.24</td>\n",
       "      <td>0.30</td>\n",
       "      <td>2.81</td>\n",
       "      <td>5.68</td>\n",
       "      <td>1.03</td>\n",
       "      <td>3.17</td>\n",
       "      <td>1185</td>\n",
       "    </tr>\n",
       "    <tr>\n",
       "      <th>3</th>\n",
       "      <td>1</td>\n",
       "      <td>14.37</td>\n",
       "      <td>1.95</td>\n",
       "      <td>2.50</td>\n",
       "      <td>16.8</td>\n",
       "      <td>113</td>\n",
       "      <td>3.85</td>\n",
       "      <td>3.49</td>\n",
       "      <td>0.24</td>\n",
       "      <td>2.18</td>\n",
       "      <td>7.80</td>\n",
       "      <td>0.86</td>\n",
       "      <td>3.45</td>\n",
       "      <td>1480</td>\n",
       "    </tr>\n",
       "    <tr>\n",
       "      <th>4</th>\n",
       "      <td>1</td>\n",
       "      <td>13.24</td>\n",
       "      <td>2.59</td>\n",
       "      <td>2.87</td>\n",
       "      <td>21.0</td>\n",
       "      <td>118</td>\n",
       "      <td>2.80</td>\n",
       "      <td>2.69</td>\n",
       "      <td>0.39</td>\n",
       "      <td>1.82</td>\n",
       "      <td>4.32</td>\n",
       "      <td>1.04</td>\n",
       "      <td>2.93</td>\n",
       "      <td>735</td>\n",
       "    </tr>\n",
       "  </tbody>\n",
       "</table>\n",
       "</div>"
      ],
      "text/plain": [
       "   Wine  Alcohol  Malic.acid   Ash   Acl   Mg  Phenols  Flavanoids  \\\n",
       "0     1    14.23        1.71  2.43  15.6  127     2.80        3.06   \n",
       "1     1    13.20        1.78  2.14  11.2  100     2.65        2.76   \n",
       "2     1    13.16        2.36  2.67  18.6  101     2.80        3.24   \n",
       "3     1    14.37        1.95  2.50  16.8  113     3.85        3.49   \n",
       "4     1    13.24        2.59  2.87  21.0  118     2.80        2.69   \n",
       "\n",
       "   Nonflavanoid.phenols  Proanth  Color.int   Hue    OD  Proline  \n",
       "0                  0.28     2.29       5.64  1.04  3.92     1065  \n",
       "1                  0.26     1.28       4.38  1.05  3.40     1050  \n",
       "2                  0.30     2.81       5.68  1.03  3.17     1185  \n",
       "3                  0.24     2.18       7.80  0.86  3.45     1480  \n",
       "4                  0.39     1.82       4.32  1.04  2.93      735  "
      ]
     },
     "execution_count": 3,
     "metadata": {},
     "output_type": "execute_result"
    }
   ],
   "source": [
    "#read the dataset\n",
    "df=pd.read_csv('https://gist.githubusercontent.com/tijptjik/9408623/raw/b237fa5848349a14a14e5d4107dc7897c21951f5/wine.csv')\n",
    "df.head()"
   ]
  },
  {
   "cell_type": "code",
   "execution_count": 4,
   "id": "9a3fec3c",
   "metadata": {
    "execution": {
     "iopub.execute_input": "2022-03-07T09:01:16.177266Z",
     "iopub.status.busy": "2022-03-07T09:01:16.176046Z",
     "iopub.status.idle": "2022-03-07T09:01:16.183124Z",
     "shell.execute_reply": "2022-03-07T09:01:16.183786Z",
     "shell.execute_reply.started": "2022-03-07T08:44:01.705386Z"
    },
    "papermill": {
     "duration": 0.024446,
     "end_time": "2022-03-07T09:01:16.184028",
     "exception": false,
     "start_time": "2022-03-07T09:01:16.159582",
     "status": "completed"
    },
    "tags": []
   },
   "outputs": [
    {
     "data": {
      "text/plain": [
       "(178, 14)"
      ]
     },
     "execution_count": 4,
     "metadata": {},
     "output_type": "execute_result"
    }
   ],
   "source": [
    "df.shape"
   ]
  },
  {
   "cell_type": "code",
   "execution_count": 5,
   "id": "754eb463",
   "metadata": {
    "execution": {
     "iopub.execute_input": "2022-03-07T09:01:16.231532Z",
     "iopub.status.busy": "2022-03-07T09:01:16.230308Z",
     "iopub.status.idle": "2022-03-07T09:01:16.250612Z",
     "shell.execute_reply": "2022-03-07T09:01:16.249902Z",
     "shell.execute_reply.started": "2022-03-07T08:44:29.591820Z"
    },
    "papermill": {
     "duration": 0.053076,
     "end_time": "2022-03-07T09:01:16.250847",
     "exception": false,
     "start_time": "2022-03-07T09:01:16.197771",
     "status": "completed"
    },
    "tags": []
   },
   "outputs": [
    {
     "name": "stdout",
     "output_type": "stream",
     "text": [
      "<class 'pandas.core.frame.DataFrame'>\n",
      "RangeIndex: 178 entries, 0 to 177\n",
      "Data columns (total 14 columns):\n",
      " #   Column                Non-Null Count  Dtype  \n",
      "---  ------                --------------  -----  \n",
      " 0   Wine                  178 non-null    int64  \n",
      " 1   Alcohol               178 non-null    float64\n",
      " 2   Malic.acid            178 non-null    float64\n",
      " 3   Ash                   178 non-null    float64\n",
      " 4   Acl                   178 non-null    float64\n",
      " 5   Mg                    178 non-null    int64  \n",
      " 6   Phenols               178 non-null    float64\n",
      " 7   Flavanoids            178 non-null    float64\n",
      " 8   Nonflavanoid.phenols  178 non-null    float64\n",
      " 9   Proanth               178 non-null    float64\n",
      " 10  Color.int             178 non-null    float64\n",
      " 11  Hue                   178 non-null    float64\n",
      " 12  OD                    178 non-null    float64\n",
      " 13  Proline               178 non-null    int64  \n",
      "dtypes: float64(11), int64(3)\n",
      "memory usage: 19.6 KB\n"
     ]
    }
   ],
   "source": [
    "df.info()"
   ]
  },
  {
   "cell_type": "code",
   "execution_count": 6,
   "id": "0b83b566",
   "metadata": {
    "execution": {
     "iopub.execute_input": "2022-03-07T09:01:16.289100Z",
     "iopub.status.busy": "2022-03-07T09:01:16.288093Z",
     "iopub.status.idle": "2022-03-07T09:01:16.292793Z",
     "shell.execute_reply": "2022-03-07T09:01:16.292224Z",
     "shell.execute_reply.started": "2022-03-07T08:58:59.089127Z"
    },
    "papermill": {
     "duration": 0.02853,
     "end_time": "2022-03-07T09:01:16.292982",
     "exception": false,
     "start_time": "2022-03-07T09:01:16.264452",
     "status": "completed"
    },
    "tags": []
   },
   "outputs": [
    {
     "data": {
      "text/plain": [
       "((178, 13), (178,))"
      ]
     },
     "execution_count": 6,
     "metadata": {},
     "output_type": "execute_result"
    }
   ],
   "source": [
    "X = df.drop('Wine', axis=1)\n",
    "y = df['Wine']\n",
    "X.shape, y.shape"
   ]
  },
  {
   "cell_type": "code",
   "execution_count": 7,
   "id": "44c57ee3",
   "metadata": {
    "execution": {
     "iopub.execute_input": "2022-03-07T09:01:16.331391Z",
     "iopub.status.busy": "2022-03-07T09:01:16.330176Z",
     "iopub.status.idle": "2022-03-07T09:01:16.337486Z",
     "shell.execute_reply": "2022-03-07T09:01:16.336801Z",
     "shell.execute_reply.started": "2022-03-07T08:58:45.510072Z"
    },
    "papermill": {
     "duration": 0.0309,
     "end_time": "2022-03-07T09:01:16.337659",
     "exception": false,
     "start_time": "2022-03-07T09:01:16.306759",
     "status": "completed"
    },
    "tags": []
   },
   "outputs": [
    {
     "data": {
      "text/plain": [
       "((124, 13), (54, 13), (124,), (54,))"
      ]
     },
     "execution_count": 7,
     "metadata": {},
     "output_type": "execute_result"
    }
   ],
   "source": [
    "#perfor the train test split\n",
    "X_train, X_test, y_train, y_test = train_test_split(X, y, test_size=0.3, random_state=0)\n",
    "X_train.shape, X_test.shape, y_train.shape, y_test.shape"
   ]
  },
  {
   "cell_type": "code",
   "execution_count": 8,
   "id": "aac639fd",
   "metadata": {
    "execution": {
     "iopub.execute_input": "2022-03-07T09:01:16.384517Z",
     "iopub.status.busy": "2022-03-07T09:01:16.383380Z",
     "iopub.status.idle": "2022-03-07T09:01:16.423432Z",
     "shell.execute_reply": "2022-03-07T09:01:16.422794Z",
     "shell.execute_reply.started": "2022-03-07T08:59:44.964491Z"
    },
    "papermill": {
     "duration": 0.07196,
     "end_time": "2022-03-07T09:01:16.423589",
     "exception": false,
     "start_time": "2022-03-07T09:01:16.351629",
     "status": "completed"
    },
    "tags": []
   },
   "outputs": [
    {
     "data": {
      "text/plain": [
       "array([0.41456444, 0.30806042, 0.1751734 , 0.2727235 , 0.19413791,\n",
       "       0.48397627, 0.72451329, 0.1672438 , 0.25580863, 0.62504445,\n",
       "       0.54216532, 0.54972258, 0.54657047])"
      ]
     },
     "execution_count": 8,
     "metadata": {},
     "output_type": "execute_result"
    }
   ],
   "source": [
    "mutual_info = mutual_info_classif(X_train, y_train)\n",
    "mutual_info"
   ]
  },
  {
   "cell_type": "code",
   "execution_count": 9,
   "id": "24e86e0e",
   "metadata": {
    "execution": {
     "iopub.execute_input": "2022-03-07T09:01:16.461646Z",
     "iopub.status.busy": "2022-03-07T09:01:16.460912Z",
     "iopub.status.idle": "2022-03-07T09:01:16.464999Z",
     "shell.execute_reply": "2022-03-07T09:01:16.465463Z",
     "shell.execute_reply.started": "2022-03-07T09:00:35.725102Z"
    },
    "papermill": {
     "duration": 0.02746,
     "end_time": "2022-03-07T09:01:16.465666",
     "exception": false,
     "start_time": "2022-03-07T09:01:16.438206",
     "status": "completed"
    },
    "tags": []
   },
   "outputs": [
    {
     "data": {
      "text/plain": [
       "Flavanoids              0.724513\n",
       "Color.int               0.625044\n",
       "OD                      0.549723\n",
       "Proline                 0.546570\n",
       "Hue                     0.542165\n",
       "Phenols                 0.483976\n",
       "Alcohol                 0.414564\n",
       "Malic.acid              0.308060\n",
       "Acl                     0.272723\n",
       "Proanth                 0.255809\n",
       "Mg                      0.194138\n",
       "Ash                     0.175173\n",
       "Nonflavanoid.phenols    0.167244\n",
       "dtype: float64"
      ]
     },
     "execution_count": 9,
     "metadata": {},
     "output_type": "execute_result"
    }
   ],
   "source": [
    "#create a series to analyse the result\n",
    "mutual_info = pd.Series(mutual_info)\n",
    "mutual_info.index = X_train.columns\n",
    "mutual_info.sort_values(ascending=False)"
   ]
  },
  {
   "cell_type": "code",
   "execution_count": null,
   "id": "7f0793bd",
   "metadata": {
    "papermill": {
     "duration": 0.014505,
     "end_time": "2022-03-07T09:01:16.494875",
     "exception": false,
     "start_time": "2022-03-07T09:01:16.480370",
     "status": "completed"
    },
    "tags": []
   },
   "outputs": [],
   "source": []
  }
 ],
 "metadata": {
  "kernelspec": {
   "display_name": "Python 3",
   "language": "python",
   "name": "python3"
  },
  "language_info": {
   "codemirror_mode": {
    "name": "ipython",
    "version": 3
   },
   "file_extension": ".py",
   "mimetype": "text/x-python",
   "name": "python",
   "nbconvert_exporter": "python",
   "pygments_lexer": "ipython3",
   "version": "3.7.12"
  },
  "papermill": {
   "default_parameters": {},
   "duration": 13.739705,
   "end_time": "2022-03-07T09:01:17.221850",
   "environment_variables": {},
   "exception": null,
   "input_path": "__notebook__.ipynb",
   "output_path": "__notebook__.ipynb",
   "parameters": {},
   "start_time": "2022-03-07T09:01:03.482145",
   "version": "2.3.3"
  }
 },
 "nbformat": 4,
 "nbformat_minor": 5
}
